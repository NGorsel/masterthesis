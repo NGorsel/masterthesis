{
 "cells": [
  {
   "cell_type": "markdown",
   "metadata": {},
   "source": [
    "# STEP 6: Cluster distance scores"
   ]
  },
  {
   "cell_type": "code",
   "execution_count": 19,
   "metadata": {},
   "outputs": [],
   "source": [
    "import pandas as pd\n",
    "import numpy as np\n",
    "\n",
    "from sklearn.cluster import KMeans"
   ]
  },
  {
   "cell_type": "code",
   "execution_count": 20,
   "metadata": {},
   "outputs": [],
   "source": [
    "food_companies = [\"veganjunkfoodbar\", \"pastaebasta_amsterdam\", \"mamakellyamsterdam\", \"watsonsfood\",\n",
    "\"cannibaleroyale\", \"parkheuvel\", \"restaurantfred\", \"hugh_rotterdam\", \"oldscuola\", \"restaurantkite\",\n",
    "\"wturbankitchen\", \"thestreetfoodclub\", \"rumclubutrecht\", \"lejardinutrecht\", \"broei.utrecht\"]\n",
    "\n",
    "furniture_companies = [\"madedotcom\", \"vtwonen\", \"hemanederland\", \"loods5\", \"ikeanederland\", \"homify\", \"westwingnl\", \n",
    "\"karwei\", \"kwantum_nederland\", \"xenos_nl\", \"homedeco\", \"bol_com\", \"leenbakker\", \"wonenmetlef\", \"_connox_\",\n",
    "\"interiorjunkiecom\", \"jysknl\", \"wehkamp\", \"fonqnl\", \"konforhome\", \"basiclabel.nl\", \"blokker\",\n",
    "\"deensnl\", \"hastensbeds\", \"eijerkamp\", \"goossenswonenenslapen\", \"furn.nl\", \"stoermetaal\", \"roomednl\", \"misterdesignnl\",\n",
    "\"dekbeddiscounter\", \"woonexpress\", \"zitmaxx\", \"pronto_wonen\", \"designbestseller\", \"barbecueshop.nl\",\n",
    "\"flinders.design\", \"trendhopper\", \"debommelmeubelen\", \"otto_nl\", \"praxis_bouwmarkt\", \"gamma_nl\",\n",
    "\"pietklerkx.nl\", \"swisssense\", \"montelwonen\", \"aupingnl\", \"hacowonenenslapen\", \"emma_matras\", \"hornbachnl\",\n",
    "\"lampenlicht.nl\", \"profijtmeubel\", \"bianonl\", \"woonboulevardpoortvliet\", \"morreswonen\", \"hubo_nl\", \"beter_bed\",\n",
    "\"hoogenboezem.meubelen\", \"villajipp_outlet\", \"vidaxl_nl\", \"mline_nl\"]\n",
    "\n",
    "sport_companies = [\"plutosport.nl\", \"voetbalshopnl\", \"all4runningstore\", \"voetbaldirect\",\n",
    "\"dakasport\", \"hockeydirect.nl\", \"tennisdirect\", \"intersportnl\", \"aktiesport.nl\", \"sport2000nederland\",\n",
    "\"soccerfanshop\", \"jdsportsnl\", \"decathlonnederland\", \"gorillasportsnl\", \"perrysport.nl\"]\n",
    "\n",
    "company_names = food_companies + furniture_companies + sport_companies"
   ]
  },
  {
   "cell_type": "markdown",
   "metadata": {},
   "source": [
    "### 6.0 Read similarity scores from results folder"
   ]
  },
  {
   "cell_type": "code",
   "execution_count": 46,
   "metadata": {},
   "outputs": [],
   "source": [
    "df_simalarityScores = pd.read_pickle('insta_followerprofile/results/vector_hashtags_relative.pkl')\n",
    "df_simalarityScores = df_simalarityScores.fillna(0)"
   ]
  },
  {
   "cell_type": "code",
   "execution_count": 47,
   "metadata": {},
   "outputs": [
    {
     "name": "stderr",
     "output_type": "stream",
     "text": [
      "<ipython-input-47-469e0d47394c>:2: FutureWarning: Method .as_matrix will be removed in a future version. Use .values instead.\n",
      "  similarityScores = df_simalarityScores.as_matrix()\n"
     ]
    }
   ],
   "source": [
    "#Convert the similarity scores to a matrix\n",
    "similarityScores = df_simalarityScores.as_matrix()"
   ]
  },
  {
   "cell_type": "markdown",
   "metadata": {},
   "source": [
    "### 6.1 SpectralClustering"
   ]
  },
  {
   "cell_type": "code",
   "execution_count": 48,
   "metadata": {},
   "outputs": [
    {
     "data": {
      "text/plain": [
       "array([19, 16, 34, 19, 16, 16, 16, 13, 13, 13,  1, 15,  1,  1,  1, 34, 38,\n",
       "       15, 30, 26, 34, 34, 11, 32, 24, 26,  7,  5, 15, 23, 15, 27, 36, 15,\n",
       "       35, 15, 17, 15, 34, 15, 15,  3,  2,  3,  3,  4,  2, 28,  5, 23,  6,\n",
       "        3,  5, 15, 14, 39,  8, 15,  3, 15,  3,  5, 33,  0,  5,  5,  2, 37,\n",
       "       15, 22, 25, 15,  2,  5, 18, 15, 20, 10, 31, 15, 21, 12, 10, 29, 15,\n",
       "       14, 14, 10,  9, 10], dtype=int32)"
      ]
     },
     "execution_count": 48,
     "metadata": {},
     "output_type": "execute_result"
    }
   ],
   "source": [
    "# The algorithm takes the top k eigenvectors of the input matrix corresponding to the largest eigenvalues, \n",
    "from sklearn.cluster import SpectralClustering\n",
    "mat = similarityScores\n",
    "spectral = SpectralClustering(40).fit_predict(mat)\n",
    "spectral"
   ]
  },
  {
   "cell_type": "markdown",
   "metadata": {},
   "source": [
    "### 6.2 KMeans (set number of clusters yourself)"
   ]
  },
  {
   "cell_type": "code",
   "execution_count": 49,
   "metadata": {},
   "outputs": [
    {
     "ename": "LinAlgError",
     "evalue": "Last 2 dimensions of the array must be square",
     "output_type": "error",
     "traceback": [
      "\u001b[0;31m---------------------------------------------------------------------------\u001b[0m",
      "\u001b[0;31mLinAlgError\u001b[0m                               Traceback (most recent call last)",
      "\u001b[0;32m<ipython-input-49-80f614733ea2>\u001b[0m in \u001b[0;36m<module>\u001b[0;34m\u001b[0m\n\u001b[1;32m      1\u001b[0m \u001b[0;31m# then runs the k-mean algorithm on the new matrix. Here is a simple code that does this for your matrix:\u001b[0m\u001b[0;34m\u001b[0m\u001b[0;34m\u001b[0m\u001b[0;34m\u001b[0m\u001b[0m\n\u001b[0;32m----> 2\u001b[0;31m \u001b[0meigen_values\u001b[0m\u001b[0;34m,\u001b[0m \u001b[0meigen_vectors\u001b[0m \u001b[0;34m=\u001b[0m \u001b[0mnp\u001b[0m\u001b[0;34m.\u001b[0m\u001b[0mlinalg\u001b[0m\u001b[0;34m.\u001b[0m\u001b[0meigh\u001b[0m\u001b[0;34m(\u001b[0m\u001b[0mmat\u001b[0m\u001b[0;34m)\u001b[0m\u001b[0;34m\u001b[0m\u001b[0;34m\u001b[0m\u001b[0m\n\u001b[0m\u001b[1;32m      3\u001b[0m \u001b[0mkmeans\u001b[0m \u001b[0;34m=\u001b[0m \u001b[0mKMeans\u001b[0m\u001b[0;34m(\u001b[0m\u001b[0mn_clusters\u001b[0m\u001b[0;34m=\u001b[0m\u001b[0;36m5\u001b[0m\u001b[0;34m,\u001b[0m \u001b[0minit\u001b[0m\u001b[0;34m=\u001b[0m\u001b[0;34m'k-means++'\u001b[0m\u001b[0;34m)\u001b[0m\u001b[0;34m.\u001b[0m\u001b[0mfit_predict\u001b[0m\u001b[0;34m(\u001b[0m\u001b[0meigen_vectors\u001b[0m\u001b[0;34m[\u001b[0m\u001b[0;34m:\u001b[0m\u001b[0;34m,\u001b[0m \u001b[0;36m2\u001b[0m\u001b[0;34m:\u001b[0m\u001b[0;36m4\u001b[0m\u001b[0;34m]\u001b[0m\u001b[0;34m)\u001b[0m\u001b[0;34m\u001b[0m\u001b[0;34m\u001b[0m\u001b[0m\n\u001b[1;32m      4\u001b[0m \u001b[0mkmeans\u001b[0m\u001b[0;34m\u001b[0m\u001b[0;34m\u001b[0m\u001b[0m\n",
      "\u001b[0;32m<__array_function__ internals>\u001b[0m in \u001b[0;36meigh\u001b[0;34m(*args, **kwargs)\u001b[0m\n",
      "\u001b[0;32m~/.pyenv/versions/3.8.0/lib/python3.8/site-packages/numpy/linalg/linalg.py\u001b[0m in \u001b[0;36meigh\u001b[0;34m(a, UPLO)\u001b[0m\n\u001b[1;32m   1443\u001b[0m     \u001b[0ma\u001b[0m\u001b[0;34m,\u001b[0m \u001b[0mwrap\u001b[0m \u001b[0;34m=\u001b[0m \u001b[0m_makearray\u001b[0m\u001b[0;34m(\u001b[0m\u001b[0ma\u001b[0m\u001b[0;34m)\u001b[0m\u001b[0;34m\u001b[0m\u001b[0;34m\u001b[0m\u001b[0m\n\u001b[1;32m   1444\u001b[0m     \u001b[0m_assertRankAtLeast2\u001b[0m\u001b[0;34m(\u001b[0m\u001b[0ma\u001b[0m\u001b[0;34m)\u001b[0m\u001b[0;34m\u001b[0m\u001b[0;34m\u001b[0m\u001b[0m\n\u001b[0;32m-> 1445\u001b[0;31m     \u001b[0m_assertNdSquareness\u001b[0m\u001b[0;34m(\u001b[0m\u001b[0ma\u001b[0m\u001b[0;34m)\u001b[0m\u001b[0;34m\u001b[0m\u001b[0;34m\u001b[0m\u001b[0m\n\u001b[0m\u001b[1;32m   1446\u001b[0m     \u001b[0mt\u001b[0m\u001b[0;34m,\u001b[0m \u001b[0mresult_t\u001b[0m \u001b[0;34m=\u001b[0m \u001b[0m_commonType\u001b[0m\u001b[0;34m(\u001b[0m\u001b[0ma\u001b[0m\u001b[0;34m)\u001b[0m\u001b[0;34m\u001b[0m\u001b[0;34m\u001b[0m\u001b[0m\n\u001b[1;32m   1447\u001b[0m \u001b[0;34m\u001b[0m\u001b[0m\n",
      "\u001b[0;32m~/.pyenv/versions/3.8.0/lib/python3.8/site-packages/numpy/linalg/linalg.py\u001b[0m in \u001b[0;36m_assertNdSquareness\u001b[0;34m(*arrays)\u001b[0m\n\u001b[1;32m    211\u001b[0m         \u001b[0mm\u001b[0m\u001b[0;34m,\u001b[0m \u001b[0mn\u001b[0m \u001b[0;34m=\u001b[0m \u001b[0ma\u001b[0m\u001b[0;34m.\u001b[0m\u001b[0mshape\u001b[0m\u001b[0;34m[\u001b[0m\u001b[0;34m-\u001b[0m\u001b[0;36m2\u001b[0m\u001b[0;34m:\u001b[0m\u001b[0;34m]\u001b[0m\u001b[0;34m\u001b[0m\u001b[0;34m\u001b[0m\u001b[0m\n\u001b[1;32m    212\u001b[0m         \u001b[0;32mif\u001b[0m \u001b[0mm\u001b[0m \u001b[0;34m!=\u001b[0m \u001b[0mn\u001b[0m\u001b[0;34m:\u001b[0m\u001b[0;34m\u001b[0m\u001b[0;34m\u001b[0m\u001b[0m\n\u001b[0;32m--> 213\u001b[0;31m             \u001b[0;32mraise\u001b[0m \u001b[0mLinAlgError\u001b[0m\u001b[0;34m(\u001b[0m\u001b[0;34m'Last 2 dimensions of the array must be square'\u001b[0m\u001b[0;34m)\u001b[0m\u001b[0;34m\u001b[0m\u001b[0;34m\u001b[0m\u001b[0m\n\u001b[0m\u001b[1;32m    214\u001b[0m \u001b[0;34m\u001b[0m\u001b[0m\n\u001b[1;32m    215\u001b[0m \u001b[0;32mdef\u001b[0m \u001b[0m_assertFinite\u001b[0m\u001b[0;34m(\u001b[0m\u001b[0;34m*\u001b[0m\u001b[0marrays\u001b[0m\u001b[0;34m)\u001b[0m\u001b[0;34m:\u001b[0m\u001b[0;34m\u001b[0m\u001b[0;34m\u001b[0m\u001b[0m\n",
      "\u001b[0;31mLinAlgError\u001b[0m: Last 2 dimensions of the array must be square"
     ]
    }
   ],
   "source": [
    "# then runs the k-mean algorithm on the new matrix. Here is a simple code that does this for your matrix:\n",
    "eigen_values, eigen_vectors = np.linalg.eigh(mat)\n",
    "kmeans = KMeans(n_clusters=5, init='k-means++').fit_predict(eigen_vectors[:, 2:4])\n",
    "kmeans"
   ]
  },
  {
   "cell_type": "markdown",
   "metadata": {},
   "source": [
    "### 6.3 DBSCAN (automatically calculates ideal number of clusteres)"
   ]
  },
  {
   "cell_type": "code",
   "execution_count": null,
   "metadata": {},
   "outputs": [],
   "source": [
    "# For the cases you want the algorithm to figure out the number of clusters by itself, \n",
    "# you can use Density Based Clustering Algorithms like DBSCAN:\n",
    "from sklearn.cluster import DBSCAN\n",
    "dbscan = DBSCAN(min_samples=1).fit_predict(mat)\n",
    "dbscan"
   ]
  },
  {
   "cell_type": "markdown",
   "metadata": {},
   "source": [
    "### 6.4 Function which shows company names per cluster\n"
   ]
  },
  {
   "cell_type": "code",
   "execution_count": 50,
   "metadata": {
    "scrolled": true
   },
   "outputs": [
    {
     "data": {
      "text/plain": [
       "{19: ['veganjunkfoodbar', 'watsonsfood'],\n",
       " 16: ['pastaebasta_amsterdam',\n",
       "  'cannibaleroyale',\n",
       "  'parkheuvel',\n",
       "  'restaurantfred'],\n",
       " 34: ['mamakellyamsterdam',\n",
       "  'madedotcom',\n",
       "  'homify',\n",
       "  'westwingnl',\n",
       "  'hastensbeds'],\n",
       " 13: ['hugh_rotterdam', 'oldscuola', 'restaurantkite'],\n",
       " 1: ['wturbankitchen', 'rumclubutrecht', 'lejardinutrecht', 'broei.utrecht'],\n",
       " 15: ['thestreetfoodclub',\n",
       "  'hemanederland',\n",
       "  'wonenmetlef',\n",
       "  'interiorjunkiecom',\n",
       "  'fonqnl',\n",
       "  'basiclabel.nl',\n",
       "  'deensnl',\n",
       "  'eijerkamp',\n",
       "  'goossenswonenenslapen',\n",
       "  'debommelmeubelen',\n",
       "  'pietklerkx.nl',\n",
       "  'montelwonen',\n",
       "  'morreswonen',\n",
       "  'hoogenboezem.meubelen',\n",
       "  'plutosport.nl',\n",
       "  'dakasport',\n",
       "  'sport2000nederland'],\n",
       " 38: ['vtwonen'],\n",
       " 30: ['loods5'],\n",
       " 26: ['ikeanederland', 'homedeco'],\n",
       " 11: ['karwei'],\n",
       " 32: ['kwantum_nederland'],\n",
       " 24: ['xenos_nl'],\n",
       " 7: ['bol_com'],\n",
       " 5: ['leenbakker',\n",
       "  'pronto_wonen',\n",
       "  'trendhopper',\n",
       "  'hacowonenenslapen',\n",
       "  'lampenlicht.nl',\n",
       "  'profijtmeubel',\n",
       "  'vidaxl_nl'],\n",
       " 23: ['_connox_', 'designbestseller'],\n",
       " 27: ['jysknl'],\n",
       " 36: ['wehkamp'],\n",
       " 35: ['konforhome'],\n",
       " 17: ['blokker'],\n",
       " 3: ['furn.nl',\n",
       "  'roomednl',\n",
       "  'misterdesignnl',\n",
       "  'flinders.design',\n",
       "  'swisssense',\n",
       "  'aupingnl'],\n",
       " 2: ['stoermetaal', 'woonexpress', 'bianonl', 'villajipp_outlet'],\n",
       " 4: ['dekbeddiscounter'],\n",
       " 28: ['zitmaxx'],\n",
       " 6: ['barbecueshop.nl'],\n",
       " 14: ['otto_nl', 'soccerfanshop', 'jdsportsnl'],\n",
       " 39: ['praxis_bouwmarkt'],\n",
       " 8: ['gamma_nl'],\n",
       " 33: ['emma_matras'],\n",
       " 0: ['hornbachnl'],\n",
       " 37: ['woonboulevardpoortvliet'],\n",
       " 22: ['hubo_nl'],\n",
       " 25: ['beter_bed'],\n",
       " 18: ['mline_nl'],\n",
       " 20: ['voetbalshopnl'],\n",
       " 10: ['all4runningstore',\n",
       "  'intersportnl',\n",
       "  'decathlonnederland',\n",
       "  'perrysport.nl'],\n",
       " 31: ['voetbaldirect'],\n",
       " 21: ['hockeydirect.nl'],\n",
       " 12: ['tennisdirect'],\n",
       " 29: ['aktiesport.nl'],\n",
       " 9: ['gorillasportsnl']}"
      ]
     },
     "execution_count": 50,
     "metadata": {},
     "output_type": "execute_result"
    }
   ],
   "source": [
    "def showCluster(clusterArray, companynames):\n",
    "    clusters = {}\n",
    "    i=0\n",
    "    for companycluster in clusterArray:\n",
    "        if companycluster in clusters.keys():\n",
    "            clusters[companycluster].append(companynames[i])\n",
    "        else:\n",
    "            clusters[companycluster] = [companynames[i]]\n",
    "        i+=1\n",
    "    return clusters\n",
    "\n",
    "showCluster(spectral, company_names)"
   ]
  },
  {
   "cell_type": "code",
   "execution_count": null,
   "metadata": {},
   "outputs": [],
   "source": []
  }
 ],
 "metadata": {
  "kernelspec": {
   "display_name": "Python 3",
   "language": "python",
   "name": "python3"
  },
  "language_info": {
   "codemirror_mode": {
    "name": "ipython",
    "version": 3
   },
   "file_extension": ".py",
   "mimetype": "text/x-python",
   "name": "python",
   "nbconvert_exporter": "python",
   "pygments_lexer": "ipython3",
   "version": "3.8.0"
  }
 },
 "nbformat": 4,
 "nbformat_minor": 4
}
