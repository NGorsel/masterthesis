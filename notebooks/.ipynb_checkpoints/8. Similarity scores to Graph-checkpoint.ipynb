{
 "cells": [
  {
   "cell_type": "markdown",
   "metadata": {},
   "source": [
    "## STEP 8: Create graph based on similarity values"
   ]
  },
  {
   "cell_type": "code",
   "execution_count": 42,
   "metadata": {},
   "outputs": [],
   "source": [
    "import pandas as pd\n",
    "import numpy as np\n",
    "\n",
    "from sklearn.cluster import KMeans\n",
    "\n",
    "import networkx as nx\n",
    "import numpy as np\n",
    "import string"
   ]
  },
  {
   "cell_type": "code",
   "execution_count": 44,
   "metadata": {},
   "outputs": [],
   "source": [
    "food_companies = [\"veganjunkfoodbar\", \"pastaebasta_amsterdam\", \"mamakellyamsterdam\", \"watsonsfood\",\n",
    "\"cannibaleroyale\", \"parkheuvel\", \"restaurantfred\", \"hugh_rotterdam\", \"oldscuola\", \"restaurantkite\",\n",
    "\"wturbankitchen\", \"thestreetfoodclub\", \"rumclubutrecht\", \"lejardinutrecht\", \"broei.utrecht\"]\n",
    "\n",
    "furniture_companies = [\"madedotcom\", \"vtwonen\", \"hemanederland\", \"loods5\", \"ikeanederland\", \"homify\", \"westwingnl\", \n",
    "\"karwei\", \"kwantum_nederland\", \"xenos_nl\", \"homedeco\", \"bol_com\", \"leenbakker\", \"wonenmetlef\", \"_connox_\",\n",
    "\"interiorjunkiecom\", \"jysknl\", \"wehkamp\", \"fonqnl\", \"konforhome\", \"basiclabel.nl\", \"blokker\",\n",
    "\"deensnl\", \"hastensbeds\", \"eijerkamp\", \"goossenswonenenslapen\", \"furn.nl\", \"stoermetaal\", \"roomednl\", \"misterdesignnl\",\n",
    "\"dekbeddiscounter\", \"woonexpress\", \"zitmaxx\", \"pronto_wonen\", \"designbestseller\", \"barbecueshop.nl\",\n",
    "\"flinders.design\", \"trendhopper\", \"debommelmeubelen\", \"otto_nl\", \"praxis_bouwmarkt\", \"gamma_nl\",\n",
    "\"pietklerkx.nl\", \"swisssense\", \"montelwonen\", \"aupingnl\", \"hacowonenenslapen\", \"emma_matras\", \"hornbachnl\",\n",
    "\"lampenlicht.nl\", \"profijtmeubel\", \"bianonl\", \"woonboulevardpoortvliet\", \"morreswonen\", \"hubo_nl\", \"beter_bed\",\n",
    "\"hoogenboezem.meubelen\", \"villajipp_outlet\", \"vidaxl_nl\", \"mline_nl\"]\n",
    "\n",
    "sport_companies = [\"plutosport.nl\", \"voetbalshopnl\", \"all4runningstore\", \"voetbaldirect\",\n",
    "\"dakasport\", \"hockeydirect.nl\", \"tennisdirect\", \"intersportnl\", \"aktiesport.nl\", \"sport2000nederland\",\n",
    "\"soccerfanshop\", \"jdsportsnl\", \"decathlonnederland\", \"gorillasportsnl\", \"perrysport.nl\"]\n",
    "\n",
    "company_names = food_companies + furniture_companies + sport_companies\n"
   ]
  },
  {
   "cell_type": "markdown",
   "metadata": {},
   "source": [
    "### 8.0 Read similarity scores from results folder"
   ]
  },
  {
   "cell_type": "code",
   "execution_count": 53,
   "metadata": {},
   "outputs": [],
   "source": [
    "data_input = 'combined'\n",
    "distance_algorithm = 'cosine' #cosine or jaccard\n",
    "post_level = 'absolute'\n",
    "user_level = 'absolute'\n",
    "IDF_penalty = 'no'\n",
    "\n",
    "if IDF_penalty == 'yes': idf = '-TFIDF'\n",
    "else: idf = ''\n",
    "    \n",
    "df_simalarityScores = pd.read_pickle('../data/results/SS_{}_{}_P{}_U{}{}.pkl'.format(data_input, post_level, user_level, idf))"
   ]
  },
  {
   "cell_type": "code",
   "execution_count": 54,
   "metadata": {},
   "outputs": [
    {
     "name": "stderr",
     "output_type": "stream",
     "text": [
      "<ipython-input-54-fa5fd40de521>:2: FutureWarning: Method .as_matrix will be removed in a future version. Use .values instead.\n",
      "  values = df_simalarityScores.as_matrix()\n"
     ]
    }
   ],
   "source": [
    "#Convert the similarity scores to a matrix\n",
    "values = df_simalarityScores.as_matrix()"
   ]
  },
  {
   "cell_type": "markdown",
   "metadata": {},
   "source": [
    "### 8.1 Do all similarity vlues 1 - value to get a distance and times 40"
   ]
  },
  {
   "cell_type": "code",
   "execution_count": 47,
   "metadata": {},
   "outputs": [],
   "source": [
    "dt = [('len', float)]\n",
    "A = np.array([tuple(1 - value) for value in values])*40\n",
    "A = A.view(dt)"
   ]
  },
  {
   "cell_type": "markdown",
   "metadata": {},
   "source": [
    "### 8.2 Create inner dictionary. values_dict[comp_1][comp_2] gives distance between two companies"
   ]
  },
  {
   "cell_type": "code",
   "execution_count": 48,
   "metadata": {},
   "outputs": [],
   "source": [
    "# HIER MAAK IN EEN INNER DICTIONARY. HIERDOOR KUN JE DE AFSTAND TUSSEN TWEE BEDRIJVEN VINDEN MET:\n",
    "# values_dict[COMPANY_1][COMPANY_2]\n",
    "\n",
    "values_dict = {}\n",
    "\n",
    "company_names\n",
    "\n",
    "lijst_index = 0\n",
    "for lijst in values:\n",
    "    lijst_dict = {}\n",
    "    company_index = 0\n",
    "    \n",
    "    for value in lijst:\n",
    "        lijst_dict[company_names[company_index]] = values[lijst_index][company_index]    \n",
    "        company_index += 1\n",
    "    \n",
    "    values_dict[company_names[lijst_index]] = lijst_dict\n",
    "    lijst_index += 1"
   ]
  },
  {
   "cell_type": "markdown",
   "metadata": {},
   "source": [
    "### 8.3 Create list of tuples of cities with specific similarity scores"
   ]
  },
  {
   "cell_type": "code",
   "execution_count": 49,
   "metadata": {},
   "outputs": [
    {
     "data": {
      "text/plain": [
       "8100"
      ]
     },
     "execution_count": 49,
     "metadata": {},
     "output_type": "execute_result"
    }
   ],
   "source": [
    "all_tuples = []\n",
    "\n",
    "for company_name in values_dict:\n",
    "    for end_loc in values_dict[company_name]:\n",
    "        if 2 > values_dict[company_name][end_loc] > 0.0:\n",
    "            all_tuples.append((company_name, end_loc))\n",
    "len(all_tuples)"
   ]
  },
  {
   "cell_type": "code",
   "execution_count": 50,
   "metadata": {},
   "outputs": [
    {
     "data": {
      "text/plain": [
       "1902"
      ]
     },
     "execution_count": 50,
     "metadata": {},
     "output_type": "execute_result"
    }
   ],
   "source": [
    "#De boven genoemde inner dict wordt hier gebruikt om alle bedrijven te vinden met een similarity score\n",
    "# van hoger dan 0.8, deze tuples worden vervolgens gebruikt om edges mee te tekenen.\n",
    "\n",
    "tuple_list = []\n",
    "\n",
    "for company_name in values_dict:\n",
    "    for end_loc in values_dict[company_name]:\n",
    "        if 0.9999999999999 > values_dict[company_name][end_loc] > 0.04:\n",
    "            tuple_list.append((company_name, end_loc))\n",
    "len(tuple_list)"
   ]
  },
  {
   "cell_type": "markdown",
   "metadata": {},
   "source": [
    "### 8.4 Use pygraphviz to create the graph and draw it in file.png"
   ]
  },
  {
   "cell_type": "code",
   "execution_count": 51,
   "metadata": {},
   "outputs": [],
   "source": [
    "dict_company_names = {}\n",
    "i=0\n",
    "for comp in company_names:\n",
    "    dict_company_names[i] = comp\n",
    "    i+=1\n",
    "    \n",
    "\n",
    "G = nx.from_numpy_matrix(A)\n",
    "G = nx.relabel_nodes(G, dict_company_names)    \n",
    "G = nx.drawing.nx_agraph.to_agraph(G)\n",
    "\n",
    "G.edge_attr.update(color=\"white\", width=\"0.001\") #, style='invis')\n",
    "G.node_attr.update(color=\"red\", style=\"filled\", overlap=True, splines='spline')\n",
    "\n",
    "\n",
    "for value in all_tuples:\n",
    "    G.add_edge(value[0], value[1])\n",
    "    e=G.get_edge(value[0],value[1])\n",
    "    e.attr['style']='invis'\n",
    "    \n",
    "for value in tuple_list:\n",
    "    G.add_edge(value[0], value[1])\n",
    "    e=G.get_edge(value[0],value[1])\n",
    "    e.attr['color']='blue'\n",
    "\n",
    "\n",
    "#Show edges with simlarity score of > 0.75\n",
    "\n",
    "\n",
    "#Changing the color of a feew specific nodes\n",
    "special_nodes = ['praxis_bouwmarkt', 'gamma_nl', 'hornbachnl']\n",
    "for node in special_nodes:\n",
    "    n = G.get_node(node)\n",
    "    n.attr['fillcolor']=\"purple\"\n",
    "\n",
    "\n",
    "G.draw('../remaining_info/images/{}.png', format='png', prog='neato'.format(dataType))"
   ]
  }
 ],
 "metadata": {
  "kernelspec": {
   "display_name": "Python 3",
   "language": "python",
   "name": "python3"
  },
  "language_info": {
   "codemirror_mode": {
    "name": "ipython",
    "version": 3
   },
   "file_extension": ".py",
   "mimetype": "text/x-python",
   "name": "python",
   "nbconvert_exporter": "python",
   "pygments_lexer": "ipython3",
   "version": "3.8.0"
  }
 },
 "nbformat": 4,
 "nbformat_minor": 4
}
